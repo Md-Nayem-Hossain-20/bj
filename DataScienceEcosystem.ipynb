{
 "cells": [
  {
   "cell_type": "markdown",
   "id": "de565133-d607-4a36-b36a-a634ded250be",
   "metadata": {},
   "source": [
    "#  Data Science Tools and Ecosystem"
   ]
  },
  {
   "cell_type": "markdown",
   "id": "9e81870a-6b24-4bf0-866b-bb7f23849bce",
   "metadata": {},
   "source": [
    "In this notebook, Data Science Tools and Ecosystem are summarized."
   ]
  },
  {
   "cell_type": "markdown",
   "id": "3a2d4607-96eb-44de-a5cf-65fe1807fe3d",
   "metadata": {},
   "source": [
    "Some of the popular languages that Data Scientists use are:\n",
    "1. Python\r\n",
    "2. R\r\n",
    "3. SQLib"
   ]
  },
  {
   "cell_type": "markdown",
   "id": "fbcf4f2e-269f-41ca-8d08-b9e4e40f3e1f",
   "metadata": {},
   "source": [
    "Some of the commonly used libraries used by Data Scientists include:\n",
    "1. NumPy\n",
    "2. Pandas\n",
    "3. Matplotlib"
   ]
  },
  {
   "cell_type": "markdown",
   "id": "af6b6be0-68c4-4b1e-9ff6-5ad7f2a5202f",
   "metadata": {},
   "source": [
    "| Data Science Tools    |\r\n",
    "|-----------------------|\r\n",
    "| Jupyter Notebook      |\r\n",
    "| RStudio               |\r\n",
    "| VS Code with Python |\r\n",
    " 3 |\r\n"
   ]
  },
  {
   "cell_type": "markdown",
   "id": "165dab19-0b33-44f5-959e-06d065df27d9",
   "metadata": {},
   "source": [
    "### Below are a few examples of evaluating arithmetic expressions in Python.\r\n",
    "\r\n",
    "In Python, you can perform various arithmetic operations using operators such as `+` (addition), `-` (subtraction), `*` (multiplication), `/` (division), and more. Here are some examples:\r\n",
    "\r\n",
    "1. Addition:\r\n",
    "   ```python\r\n",
    "   result = 5 + 3\r\n",
    "   print(result)  # Output: 8\r\n"
   ]
  },
  {
   "cell_type": "code",
   "execution_count": 2,
   "id": "6182f369-dfc2-4485-9a68-f50264866e7c",
   "metadata": {},
   "outputs": [
    {
     "data": {
      "text/plain": [
       "17"
      ]
     },
     "execution_count": 2,
     "metadata": {},
     "output_type": "execute_result"
    }
   ],
   "source": [
    "# This is a simple arithmetic expression to multiply then add integers.\n",
    "result = (3 * 4) + 5\n",
    "result\n"
   ]
  },
  {
   "cell_type": "code",
   "execution_count": 3,
   "id": "789502df-1c3d-497a-bd17-2b0879911efb",
   "metadata": {},
   "outputs": [
    {
     "data": {
      "text/plain": [
       "3.3333333333333335"
      ]
     },
     "execution_count": 3,
     "metadata": {},
     "output_type": "execute_result"
    }
   ],
   "source": [
    "# This will convert 200 minutes to hours by dividing by 60.\n",
    "minutes = 200\n",
    "hours = minutes / 60\n",
    "hours\n"
   ]
  },
  {
   "cell_type": "markdown",
   "id": "2705107c-2a6d-454c-893a-2db30b79636b",
   "metadata": {},
   "source": [
    "**Objectives:**\r\n",
    "\r\n",
    "- Understand the basics of Jupyter Notebooks.\r\n",
    "- Learn how to create and format Markdown cells.\r\n",
    "- Explore common Python libraries used in Data Science.\r\n",
    "- Practice writing and executing simple arithmetic expressions in Python.\r\n",
    "- Gain experience with creating and running code cells in a Jupyter Notebook.\r\n"
   ]
  },
  {
   "cell_type": "markdown",
   "id": "01328c8c-4d8a-4c10-880e-334ba3c6db9b",
   "metadata": {},
   "source": [
    "## Author\r\n",
    "Md Nayem HossainPT\r\n"
   ]
  },
  {
   "cell_type": "code",
   "execution_count": null,
   "id": "4915758d-8045-48c1-9c69-9ebf59bf995e",
   "metadata": {},
   "outputs": [],
   "source": []
  }
 ],
 "metadata": {
  "kernelspec": {
   "display_name": "Python 3 (ipykernel)",
   "language": "python",
   "name": "python3"
  },
  "language_info": {
   "codemirror_mode": {
    "name": "ipython",
    "version": 3
   },
   "file_extension": ".py",
   "mimetype": "text/x-python",
   "name": "python",
   "nbconvert_exporter": "python",
   "pygments_lexer": "ipython3",
   "version": "3.11.3"
  }
 },
 "nbformat": 4,
 "nbformat_minor": 5
}
